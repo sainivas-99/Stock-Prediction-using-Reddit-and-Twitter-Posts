{
 "cells": [
  {
   "cell_type": "code",
   "execution_count": 1,
   "metadata": {},
   "outputs": [],
   "source": [
    "import praw\n",
    "import snscrape\n",
    "import requests\n",
    "import requests.auth\n",
    "from tqdm import tqdm"
   ]
  },
  {
   "cell_type": "code",
   "execution_count": 2,
   "metadata": {},
   "outputs": [],
   "source": [
    "import credentials as cd\n",
    "import pandas as pd"
   ]
  },
  {
   "cell_type": "code",
   "execution_count": 3,
   "metadata": {},
   "outputs": [],
   "source": [
    "reddit = praw.Reddit(\n",
    "    client_id = cd.client_id,\n",
    "    client_secret = cd.client_secret,\n",
    "    user_agent = cd.user_agent,\n",
    "    user_name = cd.user_name,\n",
    "    password = cd.password,\n",
    "    requested_scopes=[\"read\", \"search\"]\n",
    ")"
   ]
  },
  {
   "cell_type": "code",
   "execution_count": 4,
   "metadata": {},
   "outputs": [
    {
     "name": "stderr",
     "output_type": "stream",
     "text": [
      "Fetching posts: 168it [00:02, 79.21it/s]"
     ]
    },
    {
     "name": "stdout",
     "output_type": "stream",
     "text": [
      "Collected 168 posts.\n"
     ]
    },
    {
     "name": "stderr",
     "output_type": "stream",
     "text": [
      "\n"
     ]
    }
   ],
   "source": [
    "def fetch_posts(subreddit_name, search_term, limit = 100):\n",
    "    subreddit = reddit.subreddit(subreddit_name)\n",
    "    posts = []\n",
    "    try:\n",
    "        for post in tqdm(subreddit.search(search_term, limit = limit, time_filter = \"month\"), desc = \"Fetching posts\"):\n",
    "            post_data = {\n",
    "                'title' : post.title,\n",
    "                'text' : post.selftext,\n",
    "                'score' : post.score,\n",
    "                'upvote_ratio' : post.upvote_ratio,\n",
    "                \"created_utc\": post.created_utc,\n",
    "                \"author\": str(post.author),\n",
    "                \"url\": post.url,\n",
    "            }\n",
    "            posts.append(post_data)\n",
    "    except Exception as e:\n",
    "        print(f\"Error fetching posts: {e}\")\n",
    "    \n",
    "    return pd.DataFrame(posts)\n",
    "\n",
    "df = fetch_posts(\"Cryptocurrency\", \"BTC\", limit=500)\n",
    "df.to_csv(\"reddit_posts.csv\", index=False)\n",
    "print(f\"Collected {len(df)} posts.\")"
   ]
  },
  {
   "cell_type": "code",
   "execution_count": 5,
   "metadata": {},
   "outputs": [
    {
     "name": "stderr",
     "output_type": "stream",
     "text": [
      "[nltk_data] Downloading package vader_lexicon to\n",
      "[nltk_data]     /Users/sainivasrangaraju/nltk_data...\n",
      "[nltk_data]   Package vader_lexicon is already up-to-date!\n"
     ]
    },
    {
     "data": {
      "text/plain": [
       "True"
      ]
     },
     "execution_count": 5,
     "metadata": {},
     "output_type": "execute_result"
    }
   ],
   "source": [
    "import nltk\n",
    "nltk.download('vader_lexicon')"
   ]
  },
  {
   "cell_type": "code",
   "execution_count": 6,
   "metadata": {},
   "outputs": [
    {
     "name": "stdout",
     "output_type": "stream",
     "text": [
      "                                                text  sentiment  \\\n",
      "0                                                           0.0   \n",
      "1                                                           0.0   \n",
      "2                                                           0.0   \n",
      "3                                                           0.0   \n",
      "4  Source: [https://x.com/corybates1895/status/19...        0.0   \n",
      "\n",
      "  sentiment_label  \n",
      "0         neutral  \n",
      "1         neutral  \n",
      "2         neutral  \n",
      "3         neutral  \n",
      "4         neutral  \n"
     ]
    }
   ],
   "source": [
    "from nltk.sentiment import SentimentIntensityAnalyzer\n",
    "\n",
    "sia = SentimentIntensityAnalyzer()\n",
    "\n",
    "df[\"sentiment\"] = df[\"text\"].apply(lambda x: sia.polarity_scores(x)[\"compound\"])\n",
    "\n",
    "df[\"sentiment_label\"] = df[\"sentiment\"].apply(\n",
    "    lambda x: \"positive\" if x > 0.05 else \"negative\" if x < -0.05 else \"neutral\"\n",
    ")\n",
    "\n",
    "print(df[[\"text\", \"sentiment\", \"sentiment_label\"]].head())"
   ]
  },
  {
   "cell_type": "code",
   "execution_count": 7,
   "metadata": {},
   "outputs": [
    {
     "data": {
      "image/png": "[encoded data removed]",
      "text/plain": [
       "<Figure size 640x480 with 1 Axes>"
      ]
     },
     "metadata": {},
     "output_type": "display_data"
    }
   ],
   "source": [
    "import matplotlib.pyplot as plt\n",
    "\n",
    "df[\"sentiment_label\"].value_counts().plot(kind=\"bar\", title=\"Sentiment Distribution\")\n",
    "plt.show()"
   ]
  }
 ],
 "metadata": {
  "kernelspec": {
   "display_name": "test",
   "language": "python",
   "name": "python3"
  },
  "language_info": {
   "codemirror_mode": {
    "name": "ipython",
    "version": 3
   },
   "file_extension": ".py",
   "mimetype": "text/x-python",
   "name": "python",
   "nbconvert_exporter": "python",
   "pygments_lexer": "ipython3",
   "version": "3.12.9"
  }
 },
 "nbformat": 4,
 "nbformat_minor": 2
}
